{
  "nbformat": 4,
  "nbformat_minor": 0,
  "metadata": {
    "colab": {
      "name": "Mask.pynb",
      "provenance": [],
      "collapsed_sections": [],
      "mount_file_id": "1cEIeJy979ChtMKdw-o5aayKQ6UQ1XJKG",
      "authorship_tag": "ABX9TyMW79PRqJgKydAU/KEfhMil",
      "include_colab_link": true
    },
    "kernelspec": {
      "name": "python3",
      "display_name": "Python 3"
    },
    "accelerator": "TPU"
  },
  "cells": [
    {
      "cell_type": "markdown",
      "metadata": {
        "id": "view-in-github",
        "colab_type": "text"
      },
      "source": [
        "<a href=\"https://colab.research.google.com/github/Satwikram/Transfer-Learning-TFOD-in-Google-colab/blob/master/Mask.ipynb\" target=\"_parent\"><img src=\"https://colab.research.google.com/assets/colab-badge.svg\" alt=\"Open In Colab\"/></a>"
      ]
    },
    {
      "cell_type": "code",
      "metadata": {
        "id": "R7PIQBsD2edp",
        "colab_type": "code",
        "outputId": "a6d2265c-85ca-45f2-f33a-6eb3fd591944",
        "colab": {
          "base_uri": "https://localhost:8080/",
          "height": 289
        }
      },
      "source": [
        "!wget -c https://repo.continuum.io/archive/Anaconda3-5.1.0-Linux-x86_64.sh"
      ],
      "execution_count": 0,
      "outputs": [
        {
          "output_type": "stream",
          "text": [
            "--2020-05-30 18:45:50--  https://repo.continuum.io/archive/Anaconda3-5.1.0-Linux-x86_64.sh\n",
            "Resolving repo.continuum.io (repo.continuum.io)... 104.18.200.79, 104.18.201.79, 2606:4700::6812:c94f, ...\n",
            "Connecting to repo.continuum.io (repo.continuum.io)|104.18.200.79|:443... connected.\n",
            "HTTP request sent, awaiting response... 301 Moved Permanently\n",
            "Location: https://repo.anaconda.com/archive/Anaconda3-5.1.0-Linux-x86_64.sh [following]\n",
            "--2020-05-30 18:45:50--  https://repo.anaconda.com/archive/Anaconda3-5.1.0-Linux-x86_64.sh\n",
            "Resolving repo.anaconda.com (repo.anaconda.com)... 104.16.130.3, 104.16.131.3, 2606:4700::6810:8203, ...\n",
            "Connecting to repo.anaconda.com (repo.anaconda.com)|104.16.130.3|:443... connected.\n",
            "HTTP request sent, awaiting response... 200 OK\n",
            "Length: 577996269 (551M) [application/x-sh]\n",
            "Saving to: ‘Anaconda3-5.1.0-Linux-x86_64.sh’\n",
            "\n",
            "Anaconda3-5.1.0-Lin 100%[===================>] 551.22M   190MB/s    in 2.9s    \n",
            "\n",
            "2020-05-30 18:45:53 (190 MB/s) - ‘Anaconda3-5.1.0-Linux-x86_64.sh’ saved [577996269/577996269]\n",
            "\n"
          ],
          "name": "stdout"
        }
      ]
    },
    {
      "cell_type": "code",
      "metadata": {
        "id": "AISabt155jUW",
        "colab_type": "code",
        "colab": {}
      },
      "source": [
        "!chmod +x Anaconda3-5.1.0-Linux-x86_64.sh"
      ],
      "execution_count": 0,
      "outputs": []
    },
    {
      "cell_type": "code",
      "metadata": {
        "id": "A17zJyq85q77",
        "colab_type": "code",
        "colab": {}
      },
      "source": [
        "import sys\n",
        "sys.path.append('/usr/local/lib/python3.6/site-packages/')"
      ],
      "execution_count": 0,
      "outputs": []
    },
    {
      "cell_type": "code",
      "metadata": {
        "id": "p-i22z5S5zCU",
        "colab_type": "code",
        "outputId": "e3d7a40e-d34a-4625-8dd0-f2e5ac74beb4",
        "colab": {
          "base_uri": "https://localhost:8080/",
          "height": 1000
        }
      },
      "source": [
        "!bash ./Anaconda3-5.1.0-Linux-x86_64.sh -b -f -p /usr/local"
      ],
      "execution_count": 0,
      "outputs": [
        {
          "output_type": "stream",
          "text": [
            "PREFIX=/usr/local\n",
            "installing: python-3.6.4-hc3d631a_1 ...\n",
            "Python 3.6.4 :: Anaconda, Inc.\n",
            "installing: ca-certificates-2017.08.26-h1d4fec5_0 ...\n",
            "installing: conda-env-2.6.0-h36134e3_1 ...\n",
            "installing: intel-openmp-2018.0.0-hc7b2577_8 ...\n",
            "installing: libgcc-ng-7.2.0-h7cc24e2_2 ...\n",
            "installing: libgfortran-ng-7.2.0-h9f7466a_2 ...\n",
            "installing: libstdcxx-ng-7.2.0-h7a57d05_2 ...\n",
            "installing: bzip2-1.0.6-h9a117a8_4 ...\n",
            "installing: expat-2.2.5-he0dffb1_0 ...\n",
            "installing: gmp-6.1.2-h6c8ec71_1 ...\n",
            "installing: graphite2-1.3.10-hf63cedd_1 ...\n",
            "installing: icu-58.2-h9c2bf20_1 ...\n",
            "installing: jbig-2.1-hdba287a_0 ...\n",
            "installing: jpeg-9b-h024ee3a_2 ...\n",
            "installing: libffi-3.2.1-hd88cf55_4 ...\n",
            "installing: libsodium-1.0.15-hf101ebd_0 ...\n",
            "installing: libtool-2.4.6-h544aabb_3 ...\n",
            "installing: libxcb-1.12-hcd93eb1_4 ...\n",
            "installing: lzo-2.10-h49e0be7_2 ...\n",
            "installing: mkl-2018.0.1-h19d6760_4 ...\n",
            "installing: ncurses-6.0-h9df7e31_2 ...\n",
            "installing: openssl-1.0.2n-hb7f436b_0 ...\n",
            "installing: patchelf-0.9-hf79760b_2 ...\n",
            "installing: pcre-8.41-hc27e229_1 ...\n",
            "installing: pixman-0.34.0-hceecf20_3 ...\n",
            "installing: tk-8.6.7-hc745277_3 ...\n",
            "installing: unixodbc-2.3.4-hc36303a_1 ...\n",
            "installing: xz-5.2.3-h55aa19d_2 ...\n",
            "installing: yaml-0.1.7-had09818_2 ...\n",
            "installing: zlib-1.2.11-ha838bed_2 ...\n",
            "installing: glib-2.53.6-h5d9569c_2 ...\n",
            "installing: hdf5-1.10.1-h9caa474_1 ...\n",
            "installing: libedit-3.1-heed3624_0 ...\n",
            "installing: libpng-1.6.34-hb9fc6fc_0 ...\n",
            "installing: libssh2-1.8.0-h9cfc8f7_4 ...\n",
            "installing: libtiff-4.0.9-h28f6b97_0 ...\n",
            "installing: libxml2-2.9.7-h26e45fe_0 ...\n",
            "installing: mpfr-3.1.5-h11a74b3_2 ...\n",
            "installing: pandoc-1.19.2.1-hea2e7c5_1 ...\n",
            "installing: readline-7.0-ha6073c6_4 ...\n",
            "installing: zeromq-4.2.2-hbedb6e5_2 ...\n",
            "installing: dbus-1.12.2-hc3f9b76_1 ...\n",
            "installing: freetype-2.8-hab7d2ae_1 ...\n",
            "installing: gstreamer-1.12.4-hb53b477_0 ...\n",
            "installing: libcurl-7.58.0-h1ad7b7a_0 ...\n",
            "installing: libxslt-1.1.32-h1312cb7_0 ...\n",
            "installing: mpc-1.0.3-hec55b23_5 ...\n",
            "installing: sqlite-3.22.0-h1bed415_0 ...\n",
            "installing: curl-7.58.0-h84994c4_0 ...\n",
            "installing: fontconfig-2.12.4-h88586e7_1 ...\n",
            "installing: gst-plugins-base-1.12.4-h33fb286_0 ...\n",
            "installing: alabaster-0.7.10-py36h306e16b_0 ...\n",
            "installing: asn1crypto-0.24.0-py36_0 ...\n",
            "installing: attrs-17.4.0-py36_0 ...\n",
            "installing: backports-1.0-py36hfa02d7e_1 ...\n",
            "installing: beautifulsoup4-4.6.0-py36h49b8c8c_1 ...\n",
            "installing: bitarray-0.8.1-py36h14c3975_1 ...\n",
            "installing: boto-2.48.0-py36h6e4cd66_1 ...\n",
            "installing: cairo-1.14.12-h77bcde2_0 ...\n",
            "installing: certifi-2018.1.18-py36_0 ...\n",
            "installing: chardet-3.0.4-py36h0f667ec_1 ...\n",
            "installing: click-6.7-py36h5253387_0 ...\n",
            "installing: cloudpickle-0.5.2-py36_1 ...\n",
            "installing: colorama-0.3.9-py36h489cec4_0 ...\n",
            "installing: contextlib2-0.5.5-py36h6c84a62_0 ...\n",
            "installing: dask-core-0.16.1-py36_0 ...\n",
            "installing: decorator-4.2.1-py36_0 ...\n",
            "installing: docutils-0.14-py36hb0f60f5_0 ...\n",
            "installing: entrypoints-0.2.3-py36h1aec115_2 ...\n",
            "installing: et_xmlfile-1.0.1-py36hd6bccc3_0 ...\n",
            "installing: fastcache-1.0.2-py36h14c3975_2 ...\n",
            "installing: filelock-2.0.13-py36h646ffb5_0 ...\n",
            "installing: glob2-0.6-py36he249c77_0 ...\n",
            "installing: gmpy2-2.0.8-py36hc8893dd_2 ...\n",
            "installing: greenlet-0.4.12-py36h2d503a6_0 ...\n",
            "installing: heapdict-1.0.0-py36_2 ...\n",
            "installing: idna-2.6-py36h82fb2a8_1 ...\n",
            "installing: imagesize-0.7.1-py36h52d8127_0 ...\n",
            "installing: ipython_genutils-0.2.0-py36hb52b0d5_0 ...\n",
            "installing: itsdangerous-0.24-py36h93cc618_1 ...\n",
            "installing: jdcal-1.3-py36h4c697fb_0 ...\n",
            "installing: lazy-object-proxy-1.3.1-py36h10fcdad_0 ...\n",
            "installing: llvmlite-0.21.0-py36ha241eea_0 ...\n",
            "installing: locket-0.2.0-py36h787c0ad_1 ...\n",
            "installing: lxml-4.1.1-py36hf71bdeb_1 ...\n",
            "installing: markupsafe-1.0-py36hd9260cd_1 ...\n",
            "installing: mccabe-0.6.1-py36h5ad9710_1 ...\n",
            "installing: mistune-0.8.3-py36_0 ...\n",
            "installing: mkl-service-1.1.2-py36h17a0993_4 ...\n",
            "installing: mpmath-1.0.0-py36hfeacd6b_2 ...\n",
            "installing: msgpack-python-0.5.1-py36h6bb024c_0 ...\n",
            "installing: multipledispatch-0.4.9-py36h41da3fb_0 ...\n",
            "installing: numpy-1.14.0-py36h3dfced4_1 ...\n",
            "installing: olefile-0.45.1-py36_0 ...\n",
            "installing: pandocfilters-1.4.2-py36ha6701b7_1 ...\n",
            "installing: parso-0.1.1-py36h35f843b_0 ...\n",
            "installing: path.py-10.5-py36h55ceabb_0 ...\n",
            "installing: pep8-1.7.1-py36_0 ...\n",
            "installing: pickleshare-0.7.4-py36h63277f8_0 ...\n",
            "installing: pkginfo-1.4.1-py36h215d178_1 ...\n",
            "installing: pluggy-0.6.0-py36hb689045_0 ...\n",
            "installing: ply-3.10-py36hed35086_0 ...\n",
            "installing: psutil-5.4.3-py36h14c3975_0 ...\n",
            "installing: ptyprocess-0.5.2-py36h69acd42_0 ...\n",
            "installing: py-1.5.2-py36h29bf505_0 ...\n",
            "installing: pycodestyle-2.3.1-py36hf609f19_0 ...\n",
            "installing: pycosat-0.6.3-py36h0a5515d_0 ...\n",
            "installing: pycparser-2.18-py36hf9f622e_1 ...\n",
            "installing: pycrypto-2.6.1-py36h14c3975_7 ...\n",
            "installing: pycurl-7.43.0.1-py36hb7f436b_0 ...\n",
            "installing: pyodbc-4.0.22-py36hf484d3e_0 ...\n",
            "installing: pyparsing-2.2.0-py36hee85983_1 ...\n",
            "installing: pysocks-1.6.7-py36hd97a5b1_1 ...\n",
            "installing: pytz-2017.3-py36h63b9c63_0 ...\n",
            "installing: pyyaml-3.12-py36hafb9ca4_1 ...\n",
            "installing: pyzmq-16.0.3-py36he2533c7_0 ...\n",
            "installing: qt-5.6.2-h974d657_12 ...\n",
            "installing: qtpy-1.3.1-py36h3691cc8_0 ...\n",
            "installing: rope-0.10.7-py36h147e2ec_0 ...\n",
            "installing: ruamel_yaml-0.15.35-py36h14c3975_1 ...\n",
            "installing: send2trash-1.4.2-py36_0 ...\n",
            "installing: simplegeneric-0.8.1-py36_2 ...\n",
            "installing: sip-4.18.1-py36h51ed4ed_2 ...\n",
            "installing: six-1.11.0-py36h372c433_1 ...\n",
            "installing: snowballstemmer-1.2.1-py36h6febd40_0 ...\n",
            "installing: sortedcontainers-1.5.9-py36_0 ...\n",
            "installing: sphinxcontrib-1.0-py36h6d0f590_1 ...\n",
            "installing: sqlalchemy-1.2.1-py36h14c3975_0 ...\n",
            "installing: tblib-1.3.2-py36h34cf8b6_0 ...\n",
            "installing: testpath-0.3.1-py36h8cadb63_0 ...\n",
            "installing: toolz-0.9.0-py36_0 ...\n",
            "installing: tornado-4.5.3-py36_0 ...\n",
            "installing: typing-3.6.2-py36h7da032a_0 ...\n",
            "installing: unicodecsv-0.14.1-py36ha668878_0 ...\n",
            "installing: wcwidth-0.1.7-py36hdf4376a_0 ...\n",
            "installing: webencodings-0.5.1-py36h800622e_1 ...\n",
            "installing: werkzeug-0.14.1-py36_0 ...\n",
            "installing: wrapt-1.10.11-py36h28b7045_0 ...\n",
            "installing: xlrd-1.1.0-py36h1db9f0c_1 ...\n",
            "installing: xlsxwriter-1.0.2-py36h3de1aca_0 ...\n",
            "installing: xlwt-1.3.0-py36h7b00a1f_0 ...\n",
            "installing: babel-2.5.3-py36_0 ...\n",
            "installing: backports.shutil_get_terminal_size-1.0.0-py36hfea85ff_2 ...\n",
            "installing: bottleneck-1.2.1-py36haac1ea0_0 ...\n",
            "installing: cffi-1.11.4-py36h9745a5d_0 ...\n",
            "installing: conda-verify-2.0.0-py36h98955d8_0 ...\n",
            "installing: cycler-0.10.0-py36h93f1223_0 ...\n",
            "installing: cytoolz-0.9.0-py36h14c3975_0 ...\n",
            "installing: h5py-2.7.1-py36h3585f63_0 ...\n",
            "installing: harfbuzz-1.7.4-hc5b324e_0 ...\n",
            "installing: html5lib-1.0.1-py36h2f9c1c0_0 ...\n",
            "installing: jedi-0.11.1-py36_0 ...\n",
            "installing: networkx-2.1-py36_0 ...\n",
            "installing: nltk-3.2.5-py36h7532b22_0 ...\n",
            "installing: numba-0.36.2-np114py36hc6662d5_0 ...\n",
            "installing: numexpr-2.6.4-py36hc4a3f9a_0 ...\n",
            "installing: openpyxl-2.4.10-py36_0 ...\n",
            "installing: packaging-16.8-py36ha668100_1 ...\n",
            "installing: partd-0.3.8-py36h36fd896_0 ...\n",
            "installing: pathlib2-2.3.0-py36h49efa8e_0 ...\n",
            "installing: pexpect-4.3.1-py36_0 ...\n",
            "installing: pillow-5.0.0-py36h3deb7b8_0 ...\n",
            "installing: pyqt-5.6.0-py36h0386399_5 ...\n",
            "installing: python-dateutil-2.6.1-py36h88d3b88_1 ...\n",
            "installing: pywavelets-0.5.2-py36he602eb0_0 ...\n",
            "installing: qtawesome-0.4.4-py36h609ed8c_0 ...\n",
            "installing: scipy-1.0.0-py36hbf646e7_0 ...\n",
            "installing: setuptools-38.4.0-py36_0 ...\n",
            "installing: singledispatch-3.4.0.3-py36h7a266c3_0 ...\n",
            "installing: sortedcollections-0.5.3-py36h3c761f9_0 ...\n",
            "installing: sphinxcontrib-websupport-1.0.1-py36hb5cb234_1 ...\n",
            "installing: sympy-1.1.1-py36hc6d1c1c_0 ...\n",
            "installing: terminado-0.8.1-py36_1 ...\n",
            "installing: traitlets-4.3.2-py36h674d592_0 ...\n",
            "installing: zict-0.1.3-py36h3a3bf81_0 ...\n",
            "installing: astroid-1.6.1-py36_0 ...\n",
            "installing: bleach-2.1.2-py36_0 ...\n",
            "installing: clyent-1.2.2-py36h7e57e65_1 ...\n",
            "installing: cryptography-2.1.4-py36hd09be54_0 ...\n",
            "installing: cython-0.27.3-py36h1860423_0 ...\n",
            "installing: datashape-0.5.4-py36h3ad6b5c_0 ...\n",
            "installing: distributed-1.20.2-py36_0 ...\n",
            "installing: get_terminal_size-1.0.0-haa9412d_0 ...\n",
            "installing: gevent-1.2.2-py36h2fe25dc_0 ...\n",
            "installing: imageio-2.2.0-py36he555465_0 ...\n",
            "installing: isort-4.2.15-py36had401c0_0 ...\n",
            "installing: jinja2-2.10-py36ha16c418_0 ...\n",
            "installing: jsonschema-2.6.0-py36h006f8b5_0 ...\n",
            "installing: jupyter_core-4.4.0-py36h7c827e3_0 ...\n",
            "installing: matplotlib-2.1.2-py36h0e671d2_0 ...\n",
            "installing: navigator-updater-0.1.0-py36h14770f7_0 ...\n",
            "installing: nose-1.3.7-py36hcdf7029_2 ...\n",
            "installing: pandas-0.22.0-py36hf484d3e_0 ...\n",
            "installing: pango-1.41.0-hd475d92_0 ...\n",
            "installing: patsy-0.5.0-py36_0 ...\n",
            "installing: pyflakes-1.6.0-py36h7bd6a15_0 ...\n",
            "installing: pygments-2.2.0-py36h0d3125c_0 ...\n",
            "installing: pytables-3.4.2-py36h3b5282a_2 ...\n",
            "installing: pytest-3.3.2-py36_0 ...\n",
            "installing: scikit-learn-0.19.1-py36h7aa7ec6_0 ...\n",
            "installing: wheel-0.30.0-py36hfd4bba0_1 ...\n",
            "installing: astropy-2.0.3-py36h14c3975_0 ...\n",
            "installing: bkcharts-0.2-py36h735825a_0 ...\n",
            "installing: bokeh-0.12.13-py36h2f9c1c0_0 ...\n",
            "installing: flask-0.12.2-py36hb24657c_0 ...\n",
            "installing: jupyter_client-5.2.2-py36_0 ...\n",
            "installing: nbformat-4.4.0-py36h31c9010_0 ...\n",
            "installing: pip-9.0.1-py36h6c6f9ce_4 ...\n",
            "installing: prompt_toolkit-1.0.15-py36h17d85b1_0 ...\n",
            "installing: pylint-1.8.2-py36_0 ...\n",
            "installing: pyopenssl-17.5.0-py36h20ba746_0 ...\n",
            "installing: statsmodels-0.8.0-py36h8533d0b_0 ...\n",
            "installing: dask-0.16.1-py36_0 ...\n",
            "installing: flask-cors-3.0.3-py36h2d857d3_0 ...\n",
            "installing: ipython-6.2.1-py36h88c514a_1 ...\n",
            "installing: nbconvert-5.3.1-py36hb41ffb7_0 ...\n",
            "installing: seaborn-0.8.1-py36hfad7ec4_0 ...\n",
            "installing: urllib3-1.22-py36hbe7ace6_0 ...\n",
            "installing: ipykernel-4.8.0-py36_0 ...\n",
            "installing: odo-0.5.1-py36h90ed295_0 ...\n",
            "installing: requests-2.18.4-py36he2e5f8d_1 ...\n",
            "installing: scikit-image-0.13.1-py36h14c3975_1 ...\n",
            "installing: anaconda-client-1.6.9-py36_0 ...\n",
            "installing: blaze-0.11.3-py36h4e06776_0 ...\n",
            "installing: jupyter_console-5.2.0-py36he59e554_1 ...\n",
            "installing: notebook-5.4.0-py36_0 ...\n",
            "installing: qtconsole-4.3.1-py36h8f73b5b_0 ...\n",
            "installing: sphinx-1.6.6-py36_0 ...\n",
            "installing: anaconda-project-0.8.2-py36h44fb852_0 ...\n",
            "installing: jupyterlab_launcher-0.10.2-py36_0 ...\n",
            "installing: numpydoc-0.7.0-py36h18f165f_0 ...\n",
            "installing: widgetsnbextension-3.1.0-py36_0 ...\n",
            "installing: anaconda-navigator-1.7.0-py36_0 ...\n",
            "installing: ipywidgets-7.1.1-py36_0 ...\n",
            "installing: jupyterlab-0.31.5-py36_0 ...\n",
            "installing: spyder-3.2.6-py36_0 ...\n",
            "installing: _ipyw_jlab_nb_ext_conf-0.1.0-py36he11e457_0 ...\n",
            "installing: jupyter-1.0.0-py36_4 ...\n",
            "installing: anaconda-5.1.0-py36_2 ...\n",
            "installing: conda-4.4.10-py36_0 ...\n",
            "installing: conda-build-3.4.1-py36_0 ...\n",
            "installation finished.\n",
            "WARNING:\n",
            "    You currently have a PYTHONPATH environment variable set. This may cause\n",
            "    unexpected behavior when running the Python interpreter in Anaconda3.\n",
            "    For best results, please verify that your PYTHONPATH only points to\n",
            "    directories of packages that are compatible with the Python interpreter\n",
            "    in Anaconda3: /usr/local\n"
          ],
          "name": "stdout"
        }
      ]
    },
    {
      "cell_type": "code",
      "metadata": {
        "id": "pvvR9afi542t",
        "colab_type": "code",
        "outputId": "9cc9cfc2-df9e-4a06-c20e-ccd4c8ba9fd9",
        "colab": {
          "base_uri": "https://localhost:8080/",
          "height": 1000
        }
      },
      "source": [
        "!conda create -n tfod python=3.6"
      ],
      "execution_count": 0,
      "outputs": [
        {
          "output_type": "stream",
          "text": [
            "Solving environment: - \b\b\\ \b\b| \b\b/ \b\b- \b\b\\ \b\b| \b\b/ \b\b- \b\b\\ \b\b| \b\b/ \b\b- \b\b\\ \b\b| \b\b/ \b\b- \b\b\\ \b\b| \b\b/ \b\b- \b\b\\ \b\b| \b\b/ \b\b- \b\b\\ \b\b| \b\b/ \b\b- \b\b\\ \b\b| \b\b/ \b\b- \b\b\\ \b\b| \b\b/ \b\b- \b\b\\ \b\b| \b\b/ \b\b- \b\b\\ \b\b| \b\b/ \b\b- \b\b\\ \b\b| \b\b/ \b\b- \b\b\\ \b\b| \b\b/ \b\b- \b\b\\ \b\b| \b\b/ \b\b- \b\b\\ \b\b| \b\b/ \b\b- \b\b\\ \b\b| \b\b/ \b\b- \b\b\\ \b\b| \b\b/ \b\b- \b\b\\ \b\b| \b\b/ \b\b- \b\b\\ \b\b| \b\b/ \b\b- \b\b\\ \b\b| \b\b/ \b\b- \b\b\\ \b\b| \b\b/ \b\b- \b\b\\ \b\b| \b\b/ \b\b- \b\b\\ \b\b| \b\b/ \b\b- \b\bdone\n",
            "\n",
            "\n",
            "==> WARNING: A newer version of conda exists. <==\n",
            "  current version: 4.4.10\n",
            "  latest version: 4.8.3\n",
            "\n",
            "Please update conda by running\n",
            "\n",
            "    $ conda update -n base conda\n",
            "\n",
            "\n",
            "\n",
            "## Package Plan ##\n",
            "\n",
            "  environment location: /usr/local/envs/tfod\n",
            "\n",
            "  added / updated specs: \n",
            "    - python=3.6\n",
            "\n",
            "\n",
            "The following packages will be downloaded:\n",
            "\n",
            "    package                    |            build\n",
            "    ---------------------------|-----------------\n",
            "    libgcc-ng-9.1.0            |       hdf63c60_0         8.1 MB\n",
            "    xz-5.2.5                   |       h7b6447c_0         438 KB\n",
            "    libstdcxx-ng-9.1.0         |       hdf63c60_0         4.0 MB\n",
            "    _libgcc_mutex-0.1          |             main           3 KB\n",
            "    ca-certificates-2020.1.1   |                0         132 KB\n",
            "    libedit-3.1.20181209       |       hc058e9b_0         188 KB\n",
            "    certifi-2020.4.5.1         |           py36_0         159 KB\n",
            "    readline-8.0               |       h7b6447c_0         428 KB\n",
            "    ld_impl_linux-64-2.33.1    |       h53a641e_7         645 KB\n",
            "    zlib-1.2.11                |       h7b6447c_3         120 KB\n",
            "    setuptools-46.4.0          |           py36_0         646 KB\n",
            "    libffi-3.3                 |       he6710b0_1          54 KB\n",
            "    python-3.6.10              |       h7579374_2        33.9 MB\n",
            "    sqlite-3.31.1              |       h62c20be_1         2.0 MB\n",
            "    wheel-0.34.2               |           py36_0          49 KB\n",
            "    tk-8.6.8                   |       hbc83047_0         3.1 MB\n",
            "    pip-20.0.2                 |           py36_3         1.9 MB\n",
            "    ncurses-6.2                |       he6710b0_1         1.1 MB\n",
            "    openssl-1.1.1g             |       h7b6447c_0         3.8 MB\n",
            "    ------------------------------------------------------------\n",
            "                                           Total:        60.8 MB\n",
            "\n",
            "The following NEW packages will be INSTALLED:\n",
            "\n",
            "    _libgcc_mutex:    0.1-main               \n",
            "    ca-certificates:  2020.1.1-0             \n",
            "    certifi:          2020.4.5.1-py36_0      \n",
            "    ld_impl_linux-64: 2.33.1-h53a641e_7      \n",
            "    libedit:          3.1.20181209-hc058e9b_0\n",
            "    libffi:           3.3-he6710b0_1         \n",
            "    libgcc-ng:        9.1.0-hdf63c60_0       \n",
            "    libstdcxx-ng:     9.1.0-hdf63c60_0       \n",
            "    ncurses:          6.2-he6710b0_1         \n",
            "    openssl:          1.1.1g-h7b6447c_0      \n",
            "    pip:              20.0.2-py36_3          \n",
            "    python:           3.6.10-h7579374_2      \n",
            "    readline:         8.0-h7b6447c_0         \n",
            "    setuptools:       46.4.0-py36_0          \n",
            "    sqlite:           3.31.1-h62c20be_1      \n",
            "    tk:               8.6.8-hbc83047_0       \n",
            "    wheel:            0.34.2-py36_0          \n",
            "    xz:               5.2.5-h7b6447c_0       \n",
            "    zlib:             1.2.11-h7b6447c_3      \n",
            "\n",
            "Proceed ([y]/n)? y\n",
            "\n",
            "\n",
            "Downloading and Extracting Packages\n",
            "libgcc-ng 9.1.0: 100% 1.0/1 [00:03<00:00,  3.01s/it]               \n",
            "xz 5.2.5: 100% 1.0/1 [00:00<00:00,  3.81it/s]               \n",
            "libstdcxx-ng 9.1.0: 100% 1.0/1 [00:01<00:00,  1.56s/it]               \n",
            "_libgcc_mutex 0.1: 100% 1.0/1 [00:00<00:00, 16.04it/s]\n",
            "ca-certificates 2020.1.1: 100% 1.0/1 [00:00<00:00, 12.22it/s]\n",
            "libedit 3.1.20181209: 100% 1.0/1 [00:00<00:00,  6.27it/s]               \n",
            "certifi 2020.4.5.1: 100% 1.0/1 [00:00<00:00,  9.63it/s]              \n",
            "readline 8.0: 100% 1.0/1 [00:00<00:00,  3.63it/s]               \n",
            "ld_impl_linux-64 2.33.1: 100% 1.0/1 [00:00<00:00,  2.54it/s] \n",
            "zlib 1.2.11: 100% 1.0/1 [00:00<00:00, 10.57it/s]\n",
            "setuptools 46.4.0: 100% 1.0/1 [00:00<00:00,  2.15it/s]               \n",
            "libffi 3.3: 100% 1.0/1 [00:00<00:00, 12.75it/s]\n",
            "python 3.6.10: 100% 1.0/1 [00:12<00:00, 12.23s/it]               \n",
            "sqlite 3.31.1: 100% 1.0/1 [00:00<00:00,  1.25it/s]               \n",
            "wheel 0.34.2: 100% 1.0/1 [00:00<00:00, 11.14it/s]\n",
            "tk 8.6.8: 100% 1.0/1 [00:01<00:00,  1.39s/it]               \n",
            "pip 20.0.2: 100% 1.0/1 [00:01<00:00,  1.33s/it]               \n",
            "ncurses 6.2: 100% 1.0/1 [00:01<00:00,  1.29s/it]               \n",
            "openssl 1.1.1g: 100% 1.0/1 [00:01<00:00,  1.68s/it]               \n",
            "Preparing transaction: | \b\b/ \b\bdone\n",
            "Verifying transaction: \\ \b\b| \b\b/ \b\b- \b\b\\ \b\b| \b\b/ \b\b- \b\b\\ \b\b| \b\b/ \b\b- \b\b\\ \b\b| \b\b/ \b\b- \b\b\\ \b\b| \b\bdone\n",
            "Executing transaction: - \b\b\\ \b\b| \b\b/ \b\b- \b\bdone\n",
            "#\n",
            "# To activate this environment, use:\n",
            "# > source activate tfod\n",
            "#\n",
            "# To deactivate an active environment, use:\n",
            "# > source deactivate\n",
            "#\n",
            "\n"
          ],
          "name": "stdout"
        }
      ]
    },
    {
      "cell_type": "code",
      "metadata": {
        "id": "KeZfxyrJ6rl1",
        "colab_type": "code",
        "colab": {}
      },
      "source": [
        "!source activate tfod"
      ],
      "execution_count": 0,
      "outputs": []
    },
    {
      "cell_type": "code",
      "metadata": {
        "id": "7ALoKbi00hWW",
        "colab_type": "code",
        "outputId": "bd42aacb-ab8e-4d9f-f7cf-135e73d3d529",
        "colab": {
          "base_uri": "https://localhost:8080/",
          "height": 68
        }
      },
      "source": [
        "%cd /content/drive/My Drive/mask/models\n",
        "!dir"
      ],
      "execution_count": 0,
      "outputs": [
        {
          "output_type": "stream",
          "text": [
            "/content/drive/My Drive/mask/models\n",
            "AUTHORS     CONTRIBUTING.md    LICENSE\t README.md  samples    WORKSPACE\n",
            "CODEOWNERS  ISSUE_TEMPLATE.md  official  research   tutorials\n"
          ],
          "name": "stdout"
        }
      ]
    },
    {
      "cell_type": "code",
      "metadata": {
        "id": "FlBMqp5l0oAl",
        "colab_type": "code",
        "outputId": "24bdb697-b980-4217-98a7-0ce323b32603",
        "colab": {
          "base_uri": "https://localhost:8080/",
          "height": 34
        }
      },
      "source": [
        "%cd /content/drive/My Drive/mask/models/research"
      ],
      "execution_count": 0,
      "outputs": [
        {
          "output_type": "stream",
          "text": [
            "/content/drive/My Drive/mask/models/research\n"
          ],
          "name": "stdout"
        }
      ]
    },
    {
      "cell_type": "code",
      "metadata": {
        "id": "sfctGUIV00Yl",
        "colab_type": "code",
        "outputId": "65e88a1e-a05d-4a65-88cd-23e8c6aaf41d",
        "colab": {
          "base_uri": "https://localhost:8080/",
          "height": 697
        }
      },
      "source": [
        "!dir"
      ],
      "execution_count": 0,
      "outputs": [
        {
          "output_type": "stream",
          "text": [
            "a3c_blogpost\t\t\t  lm_commonsense\n",
            "adversarial_crypto\t\t  lstm_object_detection\n",
            "adversarial_logit_pairing\t  marco\n",
            "adversarial_text\t\t  maskgan\n",
            "adv_imagenet_models\t\t  minigo\n",
            "astronet\t\t\t  morph_net\n",
            "attention_ocr\t\t\t  namignizer\n",
            "audioset\t\t\t  nets\n",
            "autoaugment\t\t\t  neural_gpu\n",
            "autoencoder\t\t\t  neural_programmer\n",
            "brain_coder\t\t\t  next_frame_prediction\n",
            "build\t\t\t\t  nst_blogpost\n",
            "cognitive_mapping_and_planning\t  object_detection\n",
            "cognitive_planning\t\t  object_detection.egg-info\n",
            "compression\t\t\t  pcl_rl\n",
            "cvt_text\t\t\t  ptn\n",
            "deep_contextual_bandits\t\t  qa_kg\n",
            "deeplab\t\t\t\t  README.md\n",
            "deep_speech\t\t\t  real_nvp\n",
            "delf\t\t\t\t  rebar\n",
            "deployment\t\t\t  resnet\n",
            "differential_privacy\t\t  sentiment_analysis\n",
            "dist\t\t\t\t  seq2species\n",
            "domain_adaptation\t\t  setup.py\n",
            "efficient-hrl\t\t\t  skip_thoughts\n",
            "faster_rcnn\t\t\t  slim\n",
            "fivo\t\t\t\t  steve\n",
            "gan\t\t\t\t  street\n",
            "generate_tfrecord.py\t\t  struct2depth\n",
            "global_objectives\t\t  swivel\n",
            "im2txt\t\t\t\t  syntaxnet\n",
            "images\t\t\t\t  tcn\n",
            "inception\t\t\t  tensorrt\n",
            "keypointnet\t\t\t  textsum\n",
            "learned_optimizer\t\t  training\n",
            "learning_to_remember_rare_events  train.py\n",
            "learning_unsupervised_learning\t  transformer\n",
            "lexnet_nc\t\t\t  vid2depth\n",
            "lfads\t\t\t\t  video_prediction\n",
            "lm_1b\t\t\t\t  xml_to_csv.py\n"
          ],
          "name": "stdout"
        }
      ]
    },
    {
      "cell_type": "markdown",
      "metadata": {
        "id": "A_5Da1Tp1GlL",
        "colab_type": "text"
      },
      "source": [
        "Installing Required Librarries"
      ]
    },
    {
      "cell_type": "code",
      "metadata": {
        "id": "MTP2MY2k1GTg",
        "colab_type": "code",
        "outputId": "1a868377-cb6b-46cf-db62-e648f2c68097",
        "colab": {
          "base_uri": "https://localhost:8080/",
          "height": 1000
        }
      },
      "source": [
        "!pip install pillow lxml Cython contextlib2 jupyter matplotlib pandas opencv-python tensorflow==1.14.0"
      ],
      "execution_count": 0,
      "outputs": [
        {
          "output_type": "stream",
          "text": [
            "Requirement already satisfied: pillow in /usr/local/lib/python3.6/site-packages\n",
            "Requirement already satisfied: lxml in /usr/local/lib/python3.6/site-packages\n",
            "Requirement already satisfied: Cython in /usr/local/lib/python3.6/site-packages\n",
            "Requirement already satisfied: contextlib2 in /usr/local/lib/python3.6/site-packages\n",
            "Requirement already satisfied: jupyter in /usr/local/lib/python3.6/site-packages\n",
            "Requirement already satisfied: matplotlib in /usr/local/lib/python3.6/site-packages\n",
            "Requirement already satisfied: pandas in /usr/local/lib/python3.6/site-packages\n",
            "Collecting opencv-python\n",
            "  Downloading https://files.pythonhosted.org/packages/72/c2/e9cf54ae5b1102020ef895866a67cb2e1aef72f16dd1fde5b5fb1495ad9c/opencv_python-4.2.0.34-cp36-cp36m-manylinux1_x86_64.whl (28.2MB)\n",
            "\u001b[K    100% |████████████████████████████████| 28.2MB 42kB/s \n",
            "\u001b[?25hCollecting tensorflow==1.14.0\n",
            "  Downloading https://files.pythonhosted.org/packages/de/f0/96fb2e0412ae9692dbf400e5b04432885f677ad6241c088ccc5fe7724d69/tensorflow-1.14.0-cp36-cp36m-manylinux1_x86_64.whl (109.2MB)\n",
            "\u001b[K    100% |████████████████████████████████| 109.2MB 10kB/s \n",
            "\u001b[?25hRequirement already satisfied: notebook in /usr/local/lib/python3.6/site-packages (from jupyter)\n",
            "Requirement already satisfied: qtconsole in /usr/local/lib/python3.6/site-packages (from jupyter)\n",
            "Requirement already satisfied: jupyter-console in /usr/local/lib/python3.6/site-packages (from jupyter)\n",
            "Requirement already satisfied: nbconvert in /usr/local/lib/python3.6/site-packages (from jupyter)\n",
            "Requirement already satisfied: ipykernel in /usr/local/lib/python3.6/site-packages (from jupyter)\n",
            "Requirement already satisfied: ipywidgets in /usr/local/lib/python3.6/site-packages (from jupyter)\n",
            "Requirement already satisfied: numpy>=1.7.1 in /usr/local/lib/python3.6/site-packages (from matplotlib)\n",
            "Requirement already satisfied: six>=1.10 in /usr/local/lib/python3.6/site-packages (from matplotlib)\n",
            "Requirement already satisfied: python-dateutil>=2.1 in /usr/local/lib/python3.6/site-packages (from matplotlib)\n",
            "Requirement already satisfied: pytz in /usr/local/lib/python3.6/site-packages (from matplotlib)\n",
            "Requirement already satisfied: cycler>=0.10 in /usr/local/lib/python3.6/site-packages (from matplotlib)\n",
            "Requirement already satisfied: pyparsing!=2.0.4,!=2.1.2,!=2.1.6,>=2.0.1 in /usr/local/lib/python3.6/site-packages (from matplotlib)\n",
            "Collecting keras-preprocessing>=1.0.5 (from tensorflow==1.14.0)\n",
            "  Downloading https://files.pythonhosted.org/packages/79/4c/7c3275a01e12ef9368a892926ab932b33bb13d55794881e3573482b378a7/Keras_Preprocessing-1.1.2-py2.py3-none-any.whl (42kB)\n",
            "\u001b[K    100% |████████████████████████████████| 51kB 10.4MB/s \n",
            "\u001b[?25hCollecting astor>=0.6.0 (from tensorflow==1.14.0)\n",
            "  Downloading https://files.pythonhosted.org/packages/c3/88/97eef84f48fa04fbd6750e62dcceafba6c63c81b7ac1420856c8dcc0a3f9/astor-0.8.1-py2.py3-none-any.whl\n",
            "Collecting protobuf>=3.6.1 (from tensorflow==1.14.0)\n",
            "  Downloading https://files.pythonhosted.org/packages/28/05/9867ef8eafd12265267bee138fa2c46ebf34a276ea4cbe184cba4c606e8b/protobuf-3.12.2-cp36-cp36m-manylinux1_x86_64.whl (1.3MB)\n",
            "\u001b[K    100% |████████████████████████████████| 1.3MB 875kB/s \n",
            "\u001b[?25hRequirement already satisfied: wheel>=0.26 in /usr/local/lib/python3.6/site-packages (from tensorflow==1.14.0)\n",
            "Collecting google-pasta>=0.1.6 (from tensorflow==1.14.0)\n",
            "  Downloading https://files.pythonhosted.org/packages/a3/de/c648ef6835192e6e2cc03f40b19eeda4382c49b5bafb43d88b931c4c74ac/google_pasta-0.2.0-py3-none-any.whl (57kB)\n",
            "\u001b[K    100% |████████████████████████████████| 61kB 9.4MB/s \n",
            "\u001b[?25hCollecting tensorboard<1.15.0,>=1.14.0 (from tensorflow==1.14.0)\n",
            "  Downloading https://files.pythonhosted.org/packages/91/2d/2ed263449a078cd9c8a9ba50ebd50123adf1f8cfbea1492f9084169b89d9/tensorboard-1.14.0-py3-none-any.whl (3.1MB)\n",
            "\u001b[K    100% |████████████████████████████████| 3.2MB 374kB/s \n",
            "\u001b[?25hCollecting absl-py>=0.7.0 (from tensorflow==1.14.0)\n",
            "  Downloading https://files.pythonhosted.org/packages/1a/53/9243c600e047bd4c3df9e69cfabc1e8004a82cac2e0c484580a78a94ba2a/absl-py-0.9.0.tar.gz (104kB)\n",
            "\u001b[K    100% |████████████████████████████████| 112kB 9.3MB/s \n",
            "\u001b[?25hCollecting gast>=0.2.0 (from tensorflow==1.14.0)\n",
            "  Downloading https://files.pythonhosted.org/packages/d6/84/759f5dd23fec8ba71952d97bcc7e2c9d7d63bdc582421f3cd4be845f0c98/gast-0.3.3-py2.py3-none-any.whl\n",
            "Collecting termcolor>=1.1.0 (from tensorflow==1.14.0)\n",
            "  Downloading https://files.pythonhosted.org/packages/8a/48/a76be51647d0eb9f10e2a4511bf3ffb8cc1e6b14e9e4fab46173aa79f981/termcolor-1.1.0.tar.gz\n",
            "Collecting wrapt>=1.11.1 (from tensorflow==1.14.0)\n",
            "  Downloading https://files.pythonhosted.org/packages/82/f7/e43cefbe88c5fd371f4cf0cf5eb3feccd07515af9fd6cf7dbf1d1793a797/wrapt-1.12.1.tar.gz\n",
            "Collecting grpcio>=1.8.6 (from tensorflow==1.14.0)\n",
            "  Downloading https://files.pythonhosted.org/packages/f1/23/62d3e82fa4c505f3195315c8a774b2e656b556d174329aa98edb829e48bc/grpcio-1.29.0.tar.gz (19.6MB)\n",
            "\u001b[K    100% |████████████████████████████████| 19.6MB 61kB/s \n",
            "\u001b[?25hCollecting keras-applications>=1.0.6 (from tensorflow==1.14.0)\n",
            "  Downloading https://files.pythonhosted.org/packages/71/e3/19762fdfc62877ae9102edf6342d71b28fbfd9dea3d2f96a882ce099b03f/Keras_Applications-1.0.8-py3-none-any.whl (50kB)\n",
            "\u001b[K    100% |████████████████████████████████| 51kB 8.7MB/s \n",
            "\u001b[?25hCollecting tensorflow-estimator<1.15.0rc0,>=1.14.0rc0 (from tensorflow==1.14.0)\n",
            "  Downloading https://files.pythonhosted.org/packages/3c/d5/21860a5b11caf0678fbc8319341b0ae21a07156911132e0e71bffed0510d/tensorflow_estimator-1.14.0-py2.py3-none-any.whl (488kB)\n",
            "\u001b[K    100% |████████████████████████████████| 491kB 1.9MB/s \n",
            "\u001b[?25hRequirement already satisfied: jinja2 in /usr/local/lib/python3.6/site-packages (from notebook->jupyter)\n",
            "Requirement already satisfied: tornado>=4 in /usr/local/lib/python3.6/site-packages (from notebook->jupyter)\n",
            "Requirement already satisfied: ipython_genutils in /usr/local/lib/python3.6/site-packages (from notebook->jupyter)\n",
            "Requirement already satisfied: traitlets>=4.2.1 in /usr/local/lib/python3.6/site-packages (from notebook->jupyter)\n",
            "Requirement already satisfied: jupyter_core>=4.4.0 in /usr/local/lib/python3.6/site-packages (from notebook->jupyter)\n",
            "Requirement already satisfied: jupyter_client>=5.2.0 in /usr/local/lib/python3.6/site-packages (from notebook->jupyter)\n",
            "Requirement already satisfied: nbformat in /usr/local/lib/python3.6/site-packages (from notebook->jupyter)\n",
            "Requirement already satisfied: Send2Trash in /usr/local/lib/python3.6/site-packages (from notebook->jupyter)\n",
            "Requirement already satisfied: terminado>=0.8.1 in /usr/local/lib/python3.6/site-packages (from notebook->jupyter)\n",
            "Requirement already satisfied: ipython in /usr/local/lib/python3.6/site-packages (from jupyter-console->jupyter)\n",
            "Requirement already satisfied: prompt_toolkit<2.0.0,>=1.0.0 in /usr/local/lib/python3.6/site-packages (from jupyter-console->jupyter)\n",
            "Requirement already satisfied: pygments in /usr/local/lib/python3.6/site-packages (from jupyter-console->jupyter)\n",
            "Requirement already satisfied: mistune>=0.7.4 in /usr/local/lib/python3.6/site-packages (from nbconvert->jupyter)\n",
            "Requirement already satisfied: entrypoints>=0.2.2 in /usr/local/lib/python3.6/site-packages (from nbconvert->jupyter)\n",
            "Requirement already satisfied: bleach in /usr/local/lib/python3.6/site-packages (from nbconvert->jupyter)\n",
            "Requirement already satisfied: pandocfilters>=1.4.1 in /usr/local/lib/python3.6/site-packages (from nbconvert->jupyter)\n",
            "Requirement already satisfied: testpath in /usr/local/lib/python3.6/site-packages (from nbconvert->jupyter)\n",
            "Requirement already satisfied: widgetsnbextension~=3.1.0 in /usr/local/lib/python3.6/site-packages (from ipywidgets->jupyter)\n",
            "Requirement already satisfied: setuptools in /usr/local/lib/python3.6/site-packages (from protobuf>=3.6.1->tensorflow==1.14.0)\n",
            "Collecting markdown>=2.6.8 (from tensorboard<1.15.0,>=1.14.0->tensorflow==1.14.0)\n",
            "  Downloading https://files.pythonhosted.org/packages/a4/63/eaec2bd025ab48c754b55e8819af0f6a69e2b1e187611dd40cbbe101ee7f/Markdown-3.2.2-py3-none-any.whl (88kB)\n",
            "\u001b[K    100% |████████████████████████████████| 92kB 9.7MB/s \n",
            "\u001b[?25hRequirement already satisfied: werkzeug>=0.11.15 in /usr/local/lib/python3.6/site-packages (from tensorboard<1.15.0,>=1.14.0->tensorflow==1.14.0)\n",
            "Requirement already satisfied: h5py in /usr/local/lib/python3.6/site-packages (from keras-applications>=1.0.6->tensorflow==1.14.0)\n",
            "Requirement already satisfied: MarkupSafe>=0.23 in /usr/local/lib/python3.6/site-packages (from jinja2->notebook->jupyter)\n",
            "Requirement already satisfied: decorator in /usr/local/lib/python3.6/site-packages (from traitlets>=4.2.1->notebook->jupyter)\n",
            "Requirement already satisfied: pyzmq>=13 in /usr/local/lib/python3.6/site-packages (from jupyter_client>=5.2.0->notebook->jupyter)\n",
            "Requirement already satisfied: jsonschema!=2.5.0,>=2.4 in /usr/local/lib/python3.6/site-packages (from nbformat->notebook->jupyter)\n",
            "Requirement already satisfied: jedi>=0.10 in /usr/local/lib/python3.6/site-packages (from ipython->jupyter-console->jupyter)\n",
            "Requirement already satisfied: pickleshare in /usr/local/lib/python3.6/site-packages (from ipython->jupyter-console->jupyter)\n",
            "Requirement already satisfied: simplegeneric>0.8 in /usr/local/lib/python3.6/site-packages (from ipython->jupyter-console->jupyter)\n",
            "Requirement already satisfied: pexpect in /usr/local/lib/python3.6/site-packages (from ipython->jupyter-console->jupyter)\n",
            "Requirement already satisfied: wcwidth in /usr/local/lib/python3.6/site-packages (from prompt_toolkit<2.0.0,>=1.0.0->jupyter-console->jupyter)\n",
            "Requirement already satisfied: html5lib!=1.0b1,!=1.0b2,!=1.0b3,!=1.0b4,!=1.0b5,!=1.0b6,!=1.0b7,!=1.0b8,>=0.99999999pre in /usr/local/lib/python3.6/site-packages (from bleach->nbconvert->jupyter)\n",
            "Collecting importlib-metadata; python_version < \"3.8\" (from markdown>=2.6.8->tensorboard<1.15.0,>=1.14.0->tensorflow==1.14.0)\n",
            "  Downloading https://files.pythonhosted.org/packages/ad/e4/891bfcaf868ccabc619942f27940c77a8a4b45fd8367098955bb7e152fb1/importlib_metadata-1.6.0-py2.py3-none-any.whl\n",
            "Requirement already satisfied: parso==0.1.* in /usr/local/lib/python3.6/site-packages (from jedi>=0.10->ipython->jupyter-console->jupyter)\n",
            "Requirement already satisfied: webencodings in /usr/local/lib/python3.6/site-packages (from html5lib!=1.0b1,!=1.0b2,!=1.0b3,!=1.0b4,!=1.0b5,!=1.0b6,!=1.0b7,!=1.0b8,>=0.99999999pre->bleach->nbconvert->jupyter)\n",
            "Collecting zipp>=0.5 (from importlib-metadata; python_version < \"3.8\"->markdown>=2.6.8->tensorboard<1.15.0,>=1.14.0->tensorflow==1.14.0)\n",
            "  Downloading https://files.pythonhosted.org/packages/b2/34/bfcb43cc0ba81f527bc4f40ef41ba2ff4080e047acb0586b56b3d017ace4/zipp-3.1.0-py3-none-any.whl\n",
            "Building wheels for collected packages: absl-py, termcolor, wrapt, grpcio\n",
            "  Running setup.py bdist_wheel for absl-py ... \u001b[?25ldone\n",
            "\u001b[?25h  Stored in directory: /root/.cache/pip/wheels/8e/28/49/fad4e7f0b9a1227708cbbee4487ac8558a7334849cb81c813d\n",
            "  Running setup.py bdist_wheel for termcolor ... \u001b[?25ldone\n",
            "\u001b[?25h  Stored in directory: /root/.cache/pip/wheels/7c/06/54/bc84598ba1daf8f970247f550b175aaaee85f68b4b0c5ab2c6\n",
            "  Running setup.py bdist_wheel for wrapt ... \u001b[?25ldone\n",
            "\u001b[?25h  Stored in directory: /root/.cache/pip/wheels/b1/c2/ed/d62208260edbd3fa7156545c00ef966f45f2063d0a84f8208a\n",
            "  Running setup.py bdist_wheel for grpcio ... \u001b[?25ldone\n",
            "\u001b[?25h  Stored in directory: /root/.cache/pip/wheels/ed/06/79/e559ab3b10134903b88e2df2df1b7cc4d3f1a92a46972a09fb\n",
            "Successfully built absl-py termcolor wrapt grpcio\n",
            "Installing collected packages: opencv-python, keras-preprocessing, astor, protobuf, google-pasta, absl-py, grpcio, zipp, importlib-metadata, markdown, tensorboard, gast, termcolor, wrapt, keras-applications, tensorflow-estimator, tensorflow\n",
            "  Found existing installation: wrapt 1.10.11\n",
            "\u001b[31m    DEPRECATION: Uninstalling a distutils installed project (wrapt) has been deprecated and will be removed in a future version. This is due to the fact that uninstalling a distutils project will only partially uninstall the project.\u001b[0m\n",
            "    Uninstalling wrapt-1.10.11:\n",
            "      Successfully uninstalled wrapt-1.10.11\n",
            "Successfully installed absl-py-0.9.0 astor-0.8.1 gast-0.3.3 google-pasta-0.2.0 grpcio-1.29.0 importlib-metadata-1.6.0 keras-applications-1.0.8 keras-preprocessing-1.1.2 markdown-3.2.2 opencv-python-4.2.0.34 protobuf-3.12.2 tensorboard-1.14.0 tensorflow-1.14.0 tensorflow-estimator-1.14.0 termcolor-1.1.0 wrapt-1.12.1 zipp-3.1.0\n"
          ],
          "name": "stdout"
        },
        {
          "output_type": "display_data",
          "data": {
            "application/vnd.colab-display-data+json": {
              "pip_warning": {
                "packages": [
                  "grpc"
                ]
              }
            }
          },
          "metadata": {
            "tags": []
          }
        }
      ]
    },
    {
      "cell_type": "code",
      "metadata": {
        "id": "2jyG_zmm7NvM",
        "colab_type": "code",
        "outputId": "315b6ca3-936d-4feb-e1ff-f44eea9da922",
        "colab": {
          "base_uri": "https://localhost:8080/",
          "height": 34
        }
      },
      "source": [
        "!dir\n"
      ],
      "execution_count": 0,
      "outputs": [
        {
          "output_type": "stream",
          "text": [
            "Anaconda3-5.1.0-Linux-x86_64.sh  drive\tsample_data\n"
          ],
          "name": "stdout"
        }
      ]
    },
    {
      "cell_type": "code",
      "metadata": {
        "id": "a8Qvh87i9RdF",
        "colab_type": "code",
        "outputId": "20af3a42-1f77-45b1-ceef-66a295a82f31",
        "colab": {
          "base_uri": "https://localhost:8080/",
          "height": 34
        }
      },
      "source": [
        "%cd /content/drive/My Drive/mask/models/research"
      ],
      "execution_count": 0,
      "outputs": [
        {
          "output_type": "stream",
          "text": [
            "/content/drive/My Drive/mask/models/research\n"
          ],
          "name": "stdout"
        }
      ]
    },
    {
      "cell_type": "code",
      "metadata": {
        "id": "eGXb8s7C9dJr",
        "colab_type": "code",
        "outputId": "3f8dd8d8-7a08-47c2-9da8-615dc70cbf4f",
        "colab": {
          "base_uri": "https://localhost:8080/",
          "height": 697
        }
      },
      "source": [
        "!dir"
      ],
      "execution_count": 0,
      "outputs": [
        {
          "output_type": "stream",
          "text": [
            "a3c_blogpost\t\t\t  lm_commonsense\n",
            "adversarial_crypto\t\t  lstm_object_detection\n",
            "adversarial_logit_pairing\t  marco\n",
            "adversarial_text\t\t  maskgan\n",
            "adv_imagenet_models\t\t  minigo\n",
            "astronet\t\t\t  morph_net\n",
            "attention_ocr\t\t\t  namignizer\n",
            "audioset\t\t\t  nets\n",
            "autoaugment\t\t\t  neural_gpu\n",
            "autoencoder\t\t\t  neural_programmer\n",
            "brain_coder\t\t\t  next_frame_prediction\n",
            "build\t\t\t\t  nst_blogpost\n",
            "cognitive_mapping_and_planning\t  object_detection\n",
            "cognitive_planning\t\t  object_detection.egg-info\n",
            "compression\t\t\t  pcl_rl\n",
            "cvt_text\t\t\t  ptn\n",
            "deep_contextual_bandits\t\t  qa_kg\n",
            "deeplab\t\t\t\t  README.md\n",
            "deep_speech\t\t\t  real_nvp\n",
            "delf\t\t\t\t  rebar\n",
            "deployment\t\t\t  resnet\n",
            "differential_privacy\t\t  sentiment_analysis\n",
            "dist\t\t\t\t  seq2species\n",
            "domain_adaptation\t\t  setup.py\n",
            "efficient-hrl\t\t\t  skip_thoughts\n",
            "faster_rcnn\t\t\t  slim\n",
            "fivo\t\t\t\t  steve\n",
            "gan\t\t\t\t  street\n",
            "generate_tfrecord.py\t\t  struct2depth\n",
            "global_objectives\t\t  swivel\n",
            "im2txt\t\t\t\t  syntaxnet\n",
            "images\t\t\t\t  tcn\n",
            "inception\t\t\t  tensorrt\n",
            "keypointnet\t\t\t  textsum\n",
            "learned_optimizer\t\t  training\n",
            "learning_to_remember_rare_events  train.py\n",
            "learning_unsupervised_learning\t  transformer\n",
            "lexnet_nc\t\t\t  vid2depth\n",
            "lfads\t\t\t\t  video_prediction\n",
            "lm_1b\t\t\t\t  xml_to_csv.py\n"
          ],
          "name": "stdout"
        }
      ]
    },
    {
      "cell_type": "code",
      "metadata": {
        "id": "nElTopHE9gK-",
        "colab_type": "code",
        "outputId": "95d273a6-a137-48a7-8620-c19a8f6b211c",
        "colab": {
          "base_uri": "https://localhost:8080/",
          "height": 34
        }
      },
      "source": [
        "%cd training"
      ],
      "execution_count": 0,
      "outputs": [
        {
          "output_type": "stream",
          "text": [
            "/content/drive/My Drive/mask/models/research/training\n"
          ],
          "name": "stdout"
        }
      ]
    },
    {
      "cell_type": "code",
      "metadata": {
        "id": "EyhY7QLo9rOm",
        "colab_type": "code",
        "outputId": "23b94b74-45d2-40c3-9333-2a8fd0991c7d",
        "colab": {
          "base_uri": "https://localhost:8080/",
          "height": 374
        }
      },
      "source": [
        "!dir"
      ],
      "execution_count": 0,
      "outputs": [
        {
          "output_type": "stream",
          "text": [
            "checkpoint\n",
            "events.out.tfevents.1590841425.DESKTOP-A5JU4QI\n",
            "faster_rcnn_inception_v2_coco.config\n",
            "graph.pbtxt\n",
            "labelmap.pbtxt\n",
            "model.ckpt-1000.data-00000-of-00001\n",
            "model.ckpt-1000.index\n",
            "model.ckpt-1000.meta\n",
            "model.ckpt-847.data-00000-of-00001\n",
            "model.ckpt-847.index\n",
            "model.ckpt-847.meta\n",
            "model.ckpt-877.data-00000-of-00001\n",
            "model.ckpt-877.index\n",
            "model.ckpt-877.meta\n",
            "model.ckpt-919.data-00000-of-00001\n",
            "model.ckpt-919.index\n",
            "model.ckpt-919.meta\n",
            "model.ckpt-981.data-00000-of-00001\n",
            "model.ckpt-981.index\n",
            "model.ckpt-981.meta\n",
            "pipeline.config\n"
          ],
          "name": "stdout"
        }
      ]
    },
    {
      "cell_type": "code",
      "metadata": {
        "id": "WxkOBcap-HKT",
        "colab_type": "code",
        "colab": {}
      },
      "source": [
        "%load faster_rcnn_inception_v2_coco.config"
      ],
      "execution_count": 0,
      "outputs": []
    },
    {
      "cell_type": "code",
      "metadata": {
        "id": "K0Rr79CJ-U1W",
        "colab_type": "code",
        "outputId": "189810ca-ad88-4e7e-9bf4-4add0656425e",
        "colab": {
          "base_uri": "https://localhost:8080/",
          "height": 34
        }
      },
      "source": [
        "%cd .."
      ],
      "execution_count": 0,
      "outputs": [
        {
          "output_type": "stream",
          "text": [
            "/content/drive/My Drive/mask/models/research\n"
          ],
          "name": "stdout"
        }
      ]
    },
    {
      "cell_type": "code",
      "metadata": {
        "id": "6I6t4NIq1Eg6",
        "colab_type": "code",
        "outputId": "d2e648f7-a69e-40c1-b6fa-81e24ef082ee",
        "colab": {
          "base_uri": "https://localhost:8080/",
          "height": 170
        }
      },
      "source": [
        "!python train.py --logtostderr --train_dir=training/ --pipeline_config_path=training/faster_rcnn_inception_v2_coco.config"
      ],
      "execution_count": 0,
      "outputs": [
        {
          "output_type": "stream",
          "text": [
            "INFO:tensorflow:global step 1015: loss = 0.1681 (4.536 sec/step)\n",
            "I0530 19:17:28.028709 139891393128320 learning.py:507] global step 1015: loss = 0.1681 (4.536 sec/step)\n",
            "INFO:tensorflow:global step 1016: loss = 0.1072 (4.967 sec/step)\n",
            "I0530 19:17:32.997015 139891393128320 learning.py:507] global step 1016: loss = 0.1072 (4.967 sec/step)\n",
            "INFO:tensorflow:global step 1017: loss = 0.2395 (4.883 sec/step)\n",
            "I0530 19:17:37.880838 139891393128320 learning.py:507] global step 1017: loss = 0.2395 (4.883 sec/step)\n",
            "INFO:tensorflow:global step 1018: loss = 0.1812 (4.336 sec/step)\n",
            "I0530 19:17:42.217788 139891393128320 learning.py:507] global step 1018: loss = 0.1812 (4.336 sec/step)\n",
            "^C\n"
          ],
          "name": "stdout"
        }
      ]
    },
    {
      "cell_type": "code",
      "metadata": {
        "id": "fV1N89ex011B",
        "colab_type": "code",
        "colab": {}
      },
      "source": [
        ""
      ],
      "execution_count": 0,
      "outputs": []
    }
  ]
}